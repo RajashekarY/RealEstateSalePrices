{
 "cells": [
  {
   "cell_type": "markdown",
   "metadata": {},
   "source": [
    "## This notebook describes SVM on RealEstate Sale Prices"
   ]
  },
  {
   "cell_type": "code",
   "execution_count": 1,
   "metadata": {},
   "outputs": [],
   "source": [
    "dataset<-read.csv(file = \"data.csv\",sep = \",\",header = TRUE)"
   ]
  },
  {
   "cell_type": "code",
   "execution_count": 2,
   "metadata": {},
   "outputs": [
    {
     "data": {
      "text/html": [
       "<table>\n",
       "<thead><tr><th scope=col>X</th><th scope=col>BOROUGH</th><th scope=col>NEIGHBORHOOD</th><th scope=col>BUILDING.CLASS.CATEGORY</th><th scope=col>TAX.CLASS.AT.PRESENT</th><th scope=col>BLOCK</th><th scope=col>LOT</th><th scope=col>BUILDING.CLASS.AT.PRESENT</th><th scope=col>ADDRESS</th><th scope=col>ZIP.CODE</th><th scope=col>RESIDENTIAL.UNITS</th><th scope=col>COMMERCIAL.UNITS</th><th scope=col>TOTAL.UNITS</th><th scope=col>LAND.SQUARE.FEET</th><th scope=col>GROSS.SQUARE.FEET</th><th scope=col>YEAR.BUILT</th><th scope=col>TAX.CLASS.AT.TIME.OF.SALE</th><th scope=col>BUILDING.CLASS.AT.TIME.OF.SALE</th><th scope=col>SALE.PRICE</th><th scope=col>SALE.DATE</th></tr></thead>\n",
       "<tbody>\n",
       "\t<tr><td>4                                          </td><td>1                                          </td><td>ALPHABET CITY                              </td><td>07 RENTALS - WALKUP APARTMENTS             </td><td>2A                                         </td><td>392                                        </td><td> 6                                         </td><td>C2                                         </td><td>153 AVENUE B                               </td><td>10009                                      </td><td> 5                                         </td><td>0                                          </td><td> 5                                         </td><td>1633                                       </td><td>6440                                       </td><td>1900                                       </td><td>2                                          </td><td>C2                                         </td><td>6625000                                    </td><td>19-07-2017 00:00                           </td></tr>\n",
       "\t<tr><td>5                                          </td><td>1                                          </td><td>ALPHABET CITY                              </td><td>07 RENTALS - WALKUP APARTMENTS             </td><td>2                                          </td><td>399                                        </td><td>26                                         </td><td>C7                                         </td><td>234 EAST 4TH   STREET                      </td><td>10009                                      </td><td>28                                         </td><td>3                                          </td><td>31                                         </td><td>4616                                       </td><td>18690                                      </td><td>1900                                       </td><td>2                                          </td><td>C7                                         </td><td> -                                         </td><td>14-12-2016 00:00                           </td></tr>\n",
       "\t<tr><td>6                                          </td><td>1                                          </td><td>ALPHABET CITY                              </td><td>07 RENTALS - WALKUP APARTMENTS             </td><td>2                                          </td><td>399                                        </td><td>39                                         </td><td>C7                                         </td><td>197 EAST 3RD   STREET                      </td><td>10009                                      </td><td>16                                         </td><td>1                                          </td><td>17                                         </td><td>2212                                       </td><td>7803                                       </td><td>1900                                       </td><td>2                                          </td><td>C7                                         </td><td> -                                         </td><td>09-12-2016 00:00                           </td></tr>\n",
       "\t<tr><td>7                                          </td><td>1                                          </td><td>ALPHABET CITY                              </td><td>07 RENTALS - WALKUP APARTMENTS             </td><td>2B                                         </td><td>402                                        </td><td>21                                         </td><td>C4                                         </td><td>154 EAST 7TH STREET                        </td><td>10009                                      </td><td>10                                         </td><td>0                                          </td><td>10                                         </td><td>2272                                       </td><td>6794                                       </td><td>1913                                       </td><td>2                                          </td><td>C4                                         </td><td>3936272                                    </td><td>23-09-2016 00:00                           </td></tr>\n",
       "\t<tr><td>8                                          </td><td>1                                          </td><td>ALPHABET CITY                              </td><td>07 RENTALS - WALKUP APARTMENTS             </td><td>2A                                         </td><td>404                                        </td><td>55                                         </td><td>C2                                         </td><td>301 EAST 10TH   STREET                     </td><td>10009                                      </td><td> 6                                         </td><td>0                                          </td><td> 6                                         </td><td>2369                                       </td><td>4615                                       </td><td>1900                                       </td><td>2                                          </td><td>C2                                         </td><td>8000000                                    </td><td>17-11-2016 00:00                           </td></tr>\n",
       "\t<tr><td>9                                          </td><td>1                                          </td><td>ALPHABET CITY                              </td><td>07 RENTALS - WALKUP APARTMENTS             </td><td>2                                          </td><td>405                                        </td><td>16                                         </td><td>C4                                         </td><td>516 EAST 12TH   STREET                     </td><td>10009                                      </td><td>20                                         </td><td>0                                          </td><td>20                                         </td><td>2581                                       </td><td>9730                                       </td><td>1900                                       </td><td>2                                          </td><td>C4                                         </td><td> -                                         </td><td>20-07-2017 00:00                           </td></tr>\n",
       "</tbody>\n",
       "</table>\n"
      ],
      "text/latex": [
       "\\begin{tabular}{r|llllllllllllllllllll}\n",
       " X & BOROUGH & NEIGHBORHOOD & BUILDING.CLASS.CATEGORY & TAX.CLASS.AT.PRESENT & BLOCK & LOT & BUILDING.CLASS.AT.PRESENT & ADDRESS & ZIP.CODE & RESIDENTIAL.UNITS & COMMERCIAL.UNITS & TOTAL.UNITS & LAND.SQUARE.FEET & GROSS.SQUARE.FEET & YEAR.BUILT & TAX.CLASS.AT.TIME.OF.SALE & BUILDING.CLASS.AT.TIME.OF.SALE & SALE.PRICE & SALE.DATE\\\\\n",
       "\\hline\n",
       "\t 4                                           & 1                                           & ALPHABET CITY                               & 07 RENTALS - WALKUP APARTMENTS              & 2A                                          & 392                                         &  6                                          & C2                                          & 153 AVENUE B                                & 10009                                       &  5                                          & 0                                           &  5                                          & 1633                                        & 6440                                        & 1900                                        & 2                                           & C2                                          & 6625000                                     & 19-07-2017 00:00                           \\\\\n",
       "\t 5                                           & 1                                           & ALPHABET CITY                               & 07 RENTALS - WALKUP APARTMENTS              & 2                                           & 399                                         & 26                                          & C7                                          & 234 EAST 4TH   STREET                       & 10009                                       & 28                                          & 3                                           & 31                                          & 4616                                        & 18690                                       & 1900                                        & 2                                           & C7                                          &  -                                          & 14-12-2016 00:00                           \\\\\n",
       "\t 6                                           & 1                                           & ALPHABET CITY                               & 07 RENTALS - WALKUP APARTMENTS              & 2                                           & 399                                         & 39                                          & C7                                          & 197 EAST 3RD   STREET                       & 10009                                       & 16                                          & 1                                           & 17                                          & 2212                                        & 7803                                        & 1900                                        & 2                                           & C7                                          &  -                                          & 09-12-2016 00:00                           \\\\\n",
       "\t 7                                           & 1                                           & ALPHABET CITY                               & 07 RENTALS - WALKUP APARTMENTS              & 2B                                          & 402                                         & 21                                          & C4                                          & 154 EAST 7TH STREET                         & 10009                                       & 10                                          & 0                                           & 10                                          & 2272                                        & 6794                                        & 1913                                        & 2                                           & C4                                          & 3936272                                     & 23-09-2016 00:00                           \\\\\n",
       "\t 8                                           & 1                                           & ALPHABET CITY                               & 07 RENTALS - WALKUP APARTMENTS              & 2A                                          & 404                                         & 55                                          & C2                                          & 301 EAST 10TH   STREET                      & 10009                                       &  6                                          & 0                                           &  6                                          & 2369                                        & 4615                                        & 1900                                        & 2                                           & C2                                          & 8000000                                     & 17-11-2016 00:00                           \\\\\n",
       "\t 9                                           & 1                                           & ALPHABET CITY                               & 07 RENTALS - WALKUP APARTMENTS              & 2                                           & 405                                         & 16                                          & C4                                          & 516 EAST 12TH   STREET                      & 10009                                       & 20                                          & 0                                           & 20                                          & 2581                                        & 9730                                        & 1900                                        & 2                                           & C4                                          &  -                                          & 20-07-2017 00:00                           \\\\\n",
       "\\end{tabular}\n"
      ],
      "text/markdown": [
       "\n",
       "| X | BOROUGH | NEIGHBORHOOD | BUILDING.CLASS.CATEGORY | TAX.CLASS.AT.PRESENT | BLOCK | LOT | BUILDING.CLASS.AT.PRESENT | ADDRESS | ZIP.CODE | RESIDENTIAL.UNITS | COMMERCIAL.UNITS | TOTAL.UNITS | LAND.SQUARE.FEET | GROSS.SQUARE.FEET | YEAR.BUILT | TAX.CLASS.AT.TIME.OF.SALE | BUILDING.CLASS.AT.TIME.OF.SALE | SALE.PRICE | SALE.DATE |\n",
       "|---|---|---|---|---|---|---|---|---|---|---|---|---|---|---|---|---|---|---|---|\n",
       "| 4                                           | 1                                           | ALPHABET CITY                               | 07 RENTALS - WALKUP APARTMENTS              | 2A                                          | 392                                         |  6                                          | C2                                          | 153 AVENUE B                                | 10009                                       |  5                                          | 0                                           |  5                                          | 1633                                        | 6440                                        | 1900                                        | 2                                           | C2                                          | 6625000                                     | 19-07-2017 00:00                            |\n",
       "| 5                                           | 1                                           | ALPHABET CITY                               | 07 RENTALS - WALKUP APARTMENTS              | 2                                           | 399                                         | 26                                          | C7                                          | 234 EAST 4TH   STREET                       | 10009                                       | 28                                          | 3                                           | 31                                          | 4616                                        | 18690                                       | 1900                                        | 2                                           | C7                                          |  -                                          | 14-12-2016 00:00                            |\n",
       "| 6                                           | 1                                           | ALPHABET CITY                               | 07 RENTALS - WALKUP APARTMENTS              | 2                                           | 399                                         | 39                                          | C7                                          | 197 EAST 3RD   STREET                       | 10009                                       | 16                                          | 1                                           | 17                                          | 2212                                        | 7803                                        | 1900                                        | 2                                           | C7                                          |  -                                          | 09-12-2016 00:00                            |\n",
       "| 7                                           | 1                                           | ALPHABET CITY                               | 07 RENTALS - WALKUP APARTMENTS              | 2B                                          | 402                                         | 21                                          | C4                                          | 154 EAST 7TH STREET                         | 10009                                       | 10                                          | 0                                           | 10                                          | 2272                                        | 6794                                        | 1913                                        | 2                                           | C4                                          | 3936272                                     | 23-09-2016 00:00                            |\n",
       "| 8                                           | 1                                           | ALPHABET CITY                               | 07 RENTALS - WALKUP APARTMENTS              | 2A                                          | 404                                         | 55                                          | C2                                          | 301 EAST 10TH   STREET                      | 10009                                       |  6                                          | 0                                           |  6                                          | 2369                                        | 4615                                        | 1900                                        | 2                                           | C2                                          | 8000000                                     | 17-11-2016 00:00                            |\n",
       "| 9                                           | 1                                           | ALPHABET CITY                               | 07 RENTALS - WALKUP APARTMENTS              | 2                                           | 405                                         | 16                                          | C4                                          | 516 EAST 12TH   STREET                      | 10009                                       | 20                                          | 0                                           | 20                                          | 2581                                        | 9730                                        | 1900                                        | 2                                           | C4                                          |  -                                          | 20-07-2017 00:00                            |\n",
       "\n"
      ],
      "text/plain": [
       "  X BOROUGH NEIGHBORHOOD  BUILDING.CLASS.CATEGORY                    \n",
       "1 4 1       ALPHABET CITY 07 RENTALS - WALKUP APARTMENTS             \n",
       "2 5 1       ALPHABET CITY 07 RENTALS - WALKUP APARTMENTS             \n",
       "3 6 1       ALPHABET CITY 07 RENTALS - WALKUP APARTMENTS             \n",
       "4 7 1       ALPHABET CITY 07 RENTALS - WALKUP APARTMENTS             \n",
       "5 8 1       ALPHABET CITY 07 RENTALS - WALKUP APARTMENTS             \n",
       "6 9 1       ALPHABET CITY 07 RENTALS - WALKUP APARTMENTS             \n",
       "  TAX.CLASS.AT.PRESENT BLOCK LOT BUILDING.CLASS.AT.PRESENT\n",
       "1 2A                   392    6  C2                       \n",
       "2 2                    399   26  C7                       \n",
       "3 2                    399   39  C7                       \n",
       "4 2B                   402   21  C4                       \n",
       "5 2A                   404   55  C2                       \n",
       "6 2                    405   16  C4                       \n",
       "  ADDRESS                ZIP.CODE RESIDENTIAL.UNITS COMMERCIAL.UNITS\n",
       "1 153 AVENUE B           10009     5                0               \n",
       "2 234 EAST 4TH   STREET  10009    28                3               \n",
       "3 197 EAST 3RD   STREET  10009    16                1               \n",
       "4 154 EAST 7TH STREET    10009    10                0               \n",
       "5 301 EAST 10TH   STREET 10009     6                0               \n",
       "6 516 EAST 12TH   STREET 10009    20                0               \n",
       "  TOTAL.UNITS LAND.SQUARE.FEET GROSS.SQUARE.FEET YEAR.BUILT\n",
       "1  5          1633             6440              1900      \n",
       "2 31          4616             18690             1900      \n",
       "3 17          2212             7803              1900      \n",
       "4 10          2272             6794              1913      \n",
       "5  6          2369             4615              1900      \n",
       "6 20          2581             9730              1900      \n",
       "  TAX.CLASS.AT.TIME.OF.SALE BUILDING.CLASS.AT.TIME.OF.SALE SALE.PRICE\n",
       "1 2                         C2                             6625000   \n",
       "2 2                         C7                              -        \n",
       "3 2                         C7                              -        \n",
       "4 2                         C4                             3936272   \n",
       "5 2                         C2                             8000000   \n",
       "6 2                         C4                              -        \n",
       "  SALE.DATE       \n",
       "1 19-07-2017 00:00\n",
       "2 14-12-2016 00:00\n",
       "3 09-12-2016 00:00\n",
       "4 23-09-2016 00:00\n",
       "5 17-11-2016 00:00\n",
       "6 20-07-2017 00:00"
      ]
     },
     "metadata": {},
     "output_type": "display_data"
    }
   ],
   "source": [
    "head(dataset)"
   ]
  },
  {
   "cell_type": "markdown",
   "metadata": {},
   "source": [
    "### Handelling the missing Values"
   ]
  },
  {
   "cell_type": "markdown",
   "metadata": {},
   "source": [
    "In this data set we have a conflict instead of NA or empty spaces we have \"-\"(hiphen) as missing value so the following lines replace the Hiphen with NA in all the positions where hiphen exists."
   ]
  },
  {
   "cell_type": "code",
   "execution_count": 3,
   "metadata": {},
   "outputs": [],
   "source": [
    "dataset$LAND.SQUARE.FEET<-gsub(\"-\",NA,dataset$LAND.SQUARE.FEET)\n",
    "dataset$GROSS.SQUARE.FEET<-gsub(\"-\",NA,dataset$GROSS.SQUARE.FEET)\n",
    "dataset$SALE.PRICE<-gsub(\"-\",NA,dataset$LAND.SQUARE.FEET)"
   ]
  },
  {
   "cell_type": "code",
   "execution_count": 4,
   "metadata": {},
   "outputs": [
    {
     "data": {
      "text/html": [
       "0.0473790036429011"
      ],
      "text/latex": [
       "0.0473790036429011"
      ],
      "text/markdown": [
       "0.0473790036429011"
      ],
      "text/plain": [
       "[1] 0.047379"
      ]
     },
     "metadata": {},
     "output_type": "display_data"
    },
    {
     "data": {
      "text/html": [
       "<ol class=list-inline>\n",
       "\t<li>84548</li>\n",
       "\t<li>20</li>\n",
       "</ol>\n"
      ],
      "text/latex": [
       "\\begin{enumerate*}\n",
       "\\item 84548\n",
       "\\item 20\n",
       "\\end{enumerate*}\n"
      ],
      "text/markdown": [
       "1. 84548\n",
       "2. 20\n",
       "\n",
       "\n"
      ],
      "text/plain": [
       "[1] 84548    20"
      ]
     },
     "metadata": {},
     "output_type": "display_data"
    }
   ],
   "source": [
    "mean(is.na(dataset))\n",
    "dim(dataset)#it gives the dimensional spread of the data \n",
    "            #where first one is the rows and second is columns "
   ]
  },
  {
   "cell_type": "markdown",
   "metadata": {},
   "source": [
    "we can observe that there are very little number of values which are missing as a thumb rule if the NA's are less than 5% we can eliminate the NA's in the next step we do that"
   ]
  },
  {
   "cell_type": "code",
   "execution_count": 5,
   "metadata": {},
   "outputs": [
    {
     "data": {
      "text/html": [
       "<ol class=list-inline>\n",
       "\t<li>56930</li>\n",
       "\t<li>20</li>\n",
       "</ol>\n"
      ],
      "text/latex": [
       "\\begin{enumerate*}\n",
       "\\item 56930\n",
       "\\item 20\n",
       "\\end{enumerate*}\n"
      ],
      "text/markdown": [
       "1. 56930\n",
       "2. 20\n",
       "\n",
       "\n"
      ],
      "text/plain": [
       "[1] 56930    20"
      ]
     },
     "metadata": {},
     "output_type": "display_data"
    }
   ],
   "source": [
    "final <- na.omit(dataset)# It omits entire row even any one column contains NA value in the whole row\n",
    "dim(final)# finding dimensions after omitting the NA values"
   ]
  },
  {
   "cell_type": "markdown",
   "metadata": {},
   "source": [
    "we can see that all the columns which make 0.04% of data are eliminated by the reduced row count\n",
    "It makes no difference for analysis in loosing that data as per this huge dataset we still have, which does not have any missing values which is most important in pre-processing.\n",
    "## with this we can say in Pre-Processing a dataset we have successfully concluded"
   ]
  },
  {
   "cell_type": "markdown",
   "metadata": {},
   "source": [
    "library(dplyr)\n",
    "final <- final %>% separate(col = \"BUILDING.CLASS.CATEGORY\", into = c(\"BUILDING CLASS CATEGORY NUMBER\",\n",
    "                                                     \"BUILDING CLASS CATEGORY\"), sep = 3) %>% separate(col = \"SALE.DATE\", into = c(\"SALE DATE\", \"TIME\"), sep = \" \")"
   ]
  },
  {
   "cell_type": "markdown",
   "metadata": {},
   "source": [
    "duuu<-data.frame(installed.packages())\n",
    "length((duuu$Priority))-sum(is.na(duuu$Priority))"
   ]
  },
  {
   "cell_type": "code",
   "execution_count": null,
   "metadata": {},
   "outputs": [],
   "source": []
  },
  {
   "cell_type": "code",
   "execution_count": null,
   "metadata": {},
   "outputs": [],
   "source": []
  },
  {
   "cell_type": "code",
   "execution_count": null,
   "metadata": {},
   "outputs": [],
   "source": []
  }
 ],
 "metadata": {
  "kernelspec": {
   "display_name": "R",
   "language": "R",
   "name": "ir"
  },
  "language_info": {
   "codemirror_mode": "r",
   "file_extension": ".r",
   "mimetype": "text/x-r-source",
   "name": "R",
   "pygments_lexer": "r",
   "version": "3.5.2"
  }
 },
 "nbformat": 4,
 "nbformat_minor": 2
}
